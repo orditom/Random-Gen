{
 "cells": [
  {
   "cell_type": "code",
   "execution_count": 3,
   "id": "61d781ca-eda3-4143-9200-b7a164e8b20e",
   "metadata": {},
   "outputs": [
    {
     "name": "stdin",
     "output_type": "stream",
     "text": [
      "Enter the number of sides for the die:  10\n",
      "Press Enter or type 'x' to quit:  \n"
     ]
    },
    {
     "name": "stdout",
     "output_type": "stream",
     "text": [
      "Randomly selected number:\n",
      "~~~~ ¤ Round 1 ~~~~~\n",
      "         4\n",
      "\n"
     ]
    },
    {
     "name": "stdin",
     "output_type": "stream",
     "text": [
      "Press Enter or type 'x' to quit:  \n"
     ]
    },
    {
     "name": "stdout",
     "output_type": "stream",
     "text": [
      "Randomly selected number:\n",
      "~~~~ ¤ Round 2 ~~~~~\n",
      "         5\n",
      "\n"
     ]
    },
    {
     "name": "stdin",
     "output_type": "stream",
     "text": [
      "Press Enter or type 'x' to quit:  \n"
     ]
    },
    {
     "name": "stdout",
     "output_type": "stream",
     "text": [
      "Randomly selected number:\n",
      "~~~~ ¤ Round 3 ~~~~~\n",
      "         9\n",
      "\n"
     ]
    },
    {
     "name": "stdin",
     "output_type": "stream",
     "text": [
      "Press Enter or type 'x' to quit:  \n"
     ]
    },
    {
     "name": "stdout",
     "output_type": "stream",
     "text": [
      "Randomly selected number:\n",
      "~~~~ ¤ Round 4 ~~~~~\n",
      "         1\n",
      "\n"
     ]
    },
    {
     "name": "stdin",
     "output_type": "stream",
     "text": [
      "Press Enter or type 'x' to quit:  \n"
     ]
    },
    {
     "name": "stdout",
     "output_type": "stream",
     "text": [
      "Randomly selected number:\n",
      "~~~~ ¤ Round 5 ~~~~~\n",
      "         10\n",
      "\n"
     ]
    },
    {
     "name": "stdin",
     "output_type": "stream",
     "text": [
      "Press Enter or type 'x' to quit:  x\n"
     ]
    },
    {
     "name": "stdout",
     "output_type": "stream",
     "text": [
      "Quitting...\n"
     ]
    }
   ],
   "source": [
    "import random\n",
    "\n",
    "def generate_dice_number(dice_value, round_number):\n",
    "    header = f\" ¤ Round {round_number} \".center(20, \"~\")\n",
    "    return f\"{header}\\n         {dice_value}\\n\"\n",
    "\n",
    "# Prompt for number of sides once\n",
    "num_sides = int(input(\"Enter the number of sides for the die: \"))\n",
    "numberList = list(range(1, num_sides + 1))  # Series\n",
    "\n",
    "round_number = 1\n",
    "while True:\n",
    "    user_input = input(\"Press Enter or type 'x' to quit: \")\n",
    "    if user_input.lower() == 'x':\n",
    "        print(\"Quitting...\")\n",
    "        break\n",
    "    # random.choices expects weights to be a list of same length as numberList\n",
    "    selected_number = random.choices(numberList, k=1)[0]\n",
    "    dice_number_diagram = generate_dice_number(selected_number, round_number)\n",
    "    print(f\"Randomly selected number:\\n{dice_number_diagram}\")\n",
    "    round_number += 1"
   ]
  },
  {
   "cell_type": "code",
   "execution_count": null,
   "id": "80095e32-5250-4891-9f90-f1e09236971b",
   "metadata": {},
   "outputs": [],
   "source": []
  }
 ],
 "metadata": {
  "kernelspec": {
   "display_name": "Python 3 (ipykernel)",
   "language": "python",
   "name": "python3"
  },
  "language_info": {
   "codemirror_mode": {
    "name": "ipython",
    "version": 3
   },
   "file_extension": ".py",
   "mimetype": "text/x-python",
   "name": "python",
   "nbconvert_exporter": "python",
   "pygments_lexer": "ipython3",
   "version": "3.11.8"
  }
 },
 "nbformat": 4,
 "nbformat_minor": 5
}
